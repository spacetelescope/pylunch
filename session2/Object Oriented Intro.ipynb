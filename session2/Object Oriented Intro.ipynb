{
 "cells": [
  {
   "cell_type": "markdown",
   "metadata": {
    "slideshow": {
     "slide_type": "slide"
    }
   },
   "source": [
    "# What is Object-Oriented Programming?"
   ]
  },
  {
   "cell_type": "markdown",
   "metadata": {
    "slideshow": {
     "slide_type": "fragment"
    }
   },
   "source": [
    "Programming oriented around objects"
   ]
  },
  {
   "cell_type": "markdown",
   "metadata": {
    "slideshow": {
     "slide_type": "fragment"
    }
   },
   "source": [
    "**\"object\"** : A structure with both data *and* functions"
   ]
  },
  {
   "cell_type": "markdown",
   "metadata": {
    "slideshow": {
     "slide_type": "fragment"
    }
   },
   "source": [
    "Similar to a C or IDL `struct`, but with functions \"bound\" to them."
   ]
  },
  {
   "cell_type": "markdown",
   "metadata": {
    "slideshow": {
     "slide_type": "slide"
    }
   },
   "source": [
    "# How do you use an object?"
   ]
  },
  {
   "cell_type": "code",
   "execution_count": 1,
   "metadata": {
    "collapsed": false,
    "slideshow": {
     "slide_type": "fragment"
    }
   },
   "outputs": [],
   "source": [
    "fobj = open('../README.md')"
   ]
  },
  {
   "cell_type": "code",
   "execution_count": 2,
   "metadata": {
    "collapsed": false,
    "slideshow": {
     "slide_type": "fragment"
    }
   },
   "outputs": [
    {
     "data": {
      "text/plain": [
       "'../README.md'"
      ]
     },
     "execution_count": 2,
     "metadata": {},
     "output_type": "execute_result"
    }
   ],
   "source": [
    "fobj.name"
   ]
  },
  {
   "cell_type": "code",
   "execution_count": 3,
   "metadata": {
    "collapsed": false,
    "slideshow": {
     "slide_type": "fragment"
    }
   },
   "outputs": [
    {
     "data": {
      "text/plain": [
       "'PyLunch Nova <sup>*</sup>\\n'"
      ]
     },
     "execution_count": 3,
     "metadata": {},
     "output_type": "execute_result"
    }
   ],
   "source": [
    "fobj.readline()"
   ]
  },
  {
   "cell_type": "code",
   "execution_count": 4,
   "metadata": {
    "collapsed": false,
    "slideshow": {
     "slide_type": "fragment"
    }
   },
   "outputs": [
    {
     "name": "stdout",
     "output_type": "stream",
     "text": [
      "26\n",
      "52\n"
     ]
    }
   ],
   "source": [
    "print(fobj.tell())\n",
    "fobj.readline()\n",
    "print(fobj.tell())"
   ]
  },
  {
   "cell_type": "markdown",
   "metadata": {
    "slideshow": {
     "slide_type": "slide"
    }
   },
   "source": [
    "# Why do we care about objects?"
   ]
  },
  {
   "cell_type": "markdown",
   "metadata": {
    "slideshow": {
     "slide_type": "fragment"
    }
   },
   "source": [
    "**Everything** in Python is an object. (Even the classes themselves! Mind-bending...)"
   ]
  },
  {
   "cell_type": "markdown",
   "metadata": {
    "slideshow": {
     "slide_type": "fragment"
    }
   },
   "source": [
    "Objects hide details you don't care about (E.g., where am I in the file), and provide a unified view of what you do."
   ]
  },
  {
   "cell_type": "markdown",
   "metadata": {
    "slideshow": {
     "slide_type": "fragment"
    }
   },
   "source": [
    "Objects make it easier for you to extend someone else's work without (E.g., domain-specific coordinates in `astropy`, your own point spread function in `photutils`)."
   ]
  },
  {
   "cell_type": "markdown",
   "metadata": {
    "slideshow": {
     "slide_type": "slide"
    }
   },
   "source": [
    "# Some More Terminology\n",
    "\n",
    "* **\"method\"**: A function that's attached (\"**bound**\") to an object."
   ]
  },
  {
   "cell_type": "markdown",
   "metadata": {
    "slideshow": {
     "slide_type": "fragment"
    }
   },
   "source": [
    "* **\"class\"**: The \"template\" for an object (defines the methods and sometimes default data).  By convention uses a CamelCase name like ``MyClassName``."
   ]
  },
  {
   "cell_type": "markdown",
   "metadata": {
    "slideshow": {
     "slide_type": "fragment"
    }
   },
   "source": [
    "* **\"instance\"**: One particular object of a class (E.g. \"that object is an instance of class File\")"
   ]
  },
  {
   "cell_type": "markdown",
   "metadata": {
    "slideshow": {
     "slide_type": "-"
    }
   },
   "source": [
    "* **\"instantiate/initialize\"**: Creating a new instance of a class"
   ]
  },
  {
   "cell_type": "markdown",
   "metadata": {
    "slideshow": {
     "slide_type": "fragment"
    }
   },
   "source": [
    "* **``__init__``**: A special name Python uses for the method called when a new object is instantiated"
   ]
  },
  {
   "cell_type": "markdown",
   "metadata": {
    "slideshow": {
     "slide_type": "fragment"
    }
   },
   "source": [
    "* **\"subclass\"**: A class that has everything some other class has, plus more (for **\"inheritance\"**)"
   ]
  },
  {
   "cell_type": "markdown",
   "metadata": {
    "slideshow": {
     "slide_type": "slide"
    }
   },
   "source": [
    "# Some Examples (For you to try!)\n",
    "\n",
    "Go to https://github.com/spacetelescope/pylunch and clone it (if you know git).  Then just find the ``Object Oriented Intro.ipynb`` file.\n",
    "## Or \n",
    "Go to the same page and click on: ``session2`` -> ``Object Oriented Intro.ipynb``.  Then right click on the \"Raw\" button (upper right), and \"save link as\"/\"download link\" (or whatever is similar for your browser).  Or just use [this link](https://raw.githubusercontent.com/spacetelescope/pylunch/master/session2/Object%20Oriented%20Intro.ipynb) (its the same thing).\n",
    "\n",
    "\n",
    "## Then\n",
    "Once you've got it locally, open a terminal, ``cd`` into that directory, and run the command ``jupyter notebook``."
   ]
  },
  {
   "cell_type": "markdown",
   "metadata": {
    "slideshow": {
     "slide_type": "subslide"
    }
   },
   "source": [
    "## Point/Circle Example\n",
    "\n",
    "A point in 2D space has two coordinates.  A circle can be thought of as a point with a radius.  This is a common use of inheritance: we'll need to define a `Point` class to store the `x` and `y` positions, and a `Circle` class (which is a subclass of `Point`), which also has a `radius`.  \n",
    "\n",
    "Along the way we'll also implement methods to draw the objects (using the `matplotlib` plotting package).  Don't worry about the details of anything that starts with ``plt``, just know that it's calling `matploltlib` to actually make the plots."
   ]
  },
  {
   "cell_type": "code",
   "execution_count": null,
   "metadata": {
    "collapsed": true,
    "slideshow": {
     "slide_type": "subslide"
    }
   },
   "outputs": [],
   "source": [
    "# This cell has some stuff needed to make the \"draw\" methods work.  It's not \n",
    "# important to understand them for now, but you do need to run them to  get\n",
    "# things to work in the notebook\n",
    "\n",
    "# This makes notebooks render plots inside the notebook\n",
    "%matplotlib inline\n",
    "\n",
    "# And these are imports from the \"matplotlib\" plotting package (more on that in a future session)\n",
    "from matplotlib import pyplot as plt"
   ]
  },
  {
   "cell_type": "code",
   "execution_count": null,
   "metadata": {
    "collapsed": true,
    "slideshow": {
     "slide_type": "subslide"
    }
   },
   "outputs": [],
   "source": [
    "class Point(object):\n",
    "    def __init__(self, x, y):\n",
    "        # this is the method that gets called when you create a new Point\n",
    "        self.x = x\n",
    "        self.y = y\n",
    "        \n",
    "    def draw(self):\n",
    "        plt.scatter([self.x], [self.y])\n",
    "\n",
    "    \n",
    "# if you're on python 2.x, the top line should be:\n",
    "#class Point(object):"
   ]
  },
  {
   "cell_type": "code",
   "execution_count": null,
   "metadata": {
    "collapsed": false,
    "slideshow": {
     "slide_type": "fragment"
    }
   },
   "outputs": [],
   "source": [
    "p = Point(1, 2)\n",
    "p.draw()  # You can just call draw, and not worry at all about *how* the drawing happens"
   ]
  },
  {
   "cell_type": "code",
   "execution_count": null,
   "metadata": {
    "collapsed": true,
    "slideshow": {
     "slide_type": "subslide"
    }
   },
   "outputs": [],
   "source": [
    "class Circle(Point):  # This means \"define a class Circle that is a subclass of Point\"\n",
    "    def __init__(self, x, y, radius):\n",
    "        super().__init__(x,y)\n",
    "        # can also be this (works in py 2.x):\n",
    "        #Point.__init__(self, x, y)\n",
    "        self.radius = radius\n",
    "    \n",
    "    def draw(self): # this method \"overrides\" the `draw` method of Point\n",
    "        super(Circle, self).draw()\n",
    "        # can also be this (works in py 2.x):\n",
    "        #Point.draw(self)\n",
    "        # note for people not familiar with matplotlib: alpha keyword below sets transparency\n",
    "        circle_patch = plt.Circle((self.x, self.y), self.radius, alpha=.5)\n",
    "        plt.gca().add_patch(circle_patch)\n",
    "        \n",
    "    def compute_area(self):\n",
    "        from math import pi\n",
    "        return pi * self.radius**2"
   ]
  },
  {
   "cell_type": "code",
   "execution_count": null,
   "metadata": {
    "collapsed": false,
    "slideshow": {
     "slide_type": "fragment"
    }
   },
   "outputs": [],
   "source": [
    "pointishes = [Point(0.5, 2), Circle(2, 3, 1.2), Point(3.5, 4)]\n",
    "for obj in pointishes:\n",
    "    obj.draw() # again, all I need to know is that they \"can be drawn\"\n",
    "print(pointishes[1].compute_area())"
   ]
  },
  {
   "cell_type": "markdown",
   "metadata": {
    "slideshow": {
     "slide_type": "subslide"
    }
   },
   "source": [
    "## \"Astronomer\" Example\n",
    "\n",
    "This is a more complex class heirarchy, which includes demonstrating multiple inheritance by way of the \"diamond\" pattern illustrated below.  Also a fairly cynical view of how our science gets done.\n",
    "\n",
    "<img src=\"AstronomerClassHeirarchy.svg\" width=40%>"
   ]
  },
  {
   "cell_type": "code",
   "execution_count": null,
   "metadata": {
    "collapsed": false,
    "slideshow": {
     "slide_type": "subslide"
    }
   },
   "outputs": [],
   "source": [
    "class Astronomer(object):\n",
    "    def __init__(self):\n",
    "        self._science_done = []\n",
    "        \n",
    "    def do_science(self):\n",
    "        raise NotImplementedError(\"What, you think astronomers are all alike? Pick something more specific.\")\n",
    "        \n",
    "    @property\n",
    "    def cv(self):\n",
    "        return '\\n'.join(self._science_done)"
   ]
  },
  {
   "cell_type": "code",
   "execution_count": null,
   "metadata": {
    "collapsed": false,
    "slideshow": {
     "slide_type": "subslide"
    }
   },
   "outputs": [],
   "source": [
    "class Observer(Astronomer):\n",
    "    def __init__(self, favorite_targets):\n",
    "        self.favorite_targets= favorite_targets\n",
    "        super().__init__()\n",
    "        \n",
    "    def do_science(self):\n",
    "        target, success = self.observe()\n",
    "        \n",
    "        if success:\n",
    "            self._science_done.append('Sucessfully observed ' + target)\n",
    "        else:\n",
    "            self._science_done.append('Failed to observe ' + target)\n",
    "    \n",
    "    success_rate = .1  # TAC+weather if you're ground based, maybe?\n",
    "    def observe(self):\n",
    "        import random\n",
    "        \n",
    "        target = self.favorite_targets[random.randint(0, len(self.favorite_targets)-1)]        \n",
    "        success = random.random() < self.success_rate\n",
    "        \n",
    "        return target, success"
   ]
  },
  {
   "cell_type": "code",
   "execution_count": null,
   "metadata": {
    "collapsed": false,
    "slideshow": {
     "slide_type": "subslide"
    }
   },
   "outputs": [],
   "source": [
    "class Theorist(Astronomer):\n",
    "    def do_science(self):\n",
    "        theory = self.make_theory()\n",
    "        self._science_done.append('Foundational work on theory of ' + theory)\n",
    "        \n",
    "    def make_theory(self):\n",
    "        import random\n",
    "        # Eh, we just make it all up anyway\n",
    "        theory = chr(random.randint(97, 97+25)).upper()\n",
    "        for _ in range(random.randint(4, 10)):\n",
    "            theory += chr(random.randint(97, 97+25))\n",
    "            \n",
    "        return theory"
   ]
  },
  {
   "cell_type": "code",
   "execution_count": null,
   "metadata": {
    "collapsed": false,
    "slideshow": {
     "slide_type": "subslide"
    }
   },
   "outputs": [],
   "source": [
    "class Hybrid(Observer, Theorist):\n",
    "    def __init__(self, fraction_theorist, favorite_targets):\n",
    "        super().__init__(favorite_targets)\n",
    "        self.last_theory = None\n",
    "        self.fraction_theorist = fraction_theorist\n",
    "        \n",
    "    def do_science(self):\n",
    "        import random\n",
    "        \n",
    "        if self.last_theory is None or (random.random() < self.fraction_theorist):\n",
    "            self.last_theory = self.make_theory()\n",
    "        else:\n",
    "            target, success = self.observe()\n",
    "            if success:\n",
    "                self._science_done.append('Used {} to prove theory {}'.format(target, self.last_theory))\n",
    "            else:\n",
    "                self._science_done.append('Used {} to falsify theory {}'.format(target, self.last_theory))"
   ]
  },
  {
   "cell_type": "code",
   "execution_count": null,
   "metadata": {
    "collapsed": false,
    "slideshow": {
     "slide_type": "subslide"
    }
   },
   "outputs": [],
   "source": [
    "iva_momcheva = Observer(['AEGIS', 'COSMOS', 'GOODS', 'UDS', 'Clg J0218.3-0510', 'assorted fancy lens clusters'])\n",
    "erik_tollerud = Hybrid(.4, ['an M31 satellite', 'a Milky Way satellite', 'an isolated LG Dwarf', 'a Local Volume Dwarf'])\n",
    "\n",
    "for _ in range(20):\n",
    "    iva_momcheva.do_science()\n",
    "    erik_tollerud.do_science()\n",
    "    \n",
    "print(\"Erik's CV:\")\n",
    "print(erik_tollerud.cv)\n",
    "\n",
    "print(\"\\nIva's CV:\")\n",
    "print(iva_momcheva.cv)"
   ]
  },
  {
   "cell_type": "code",
   "execution_count": null,
   "metadata": {
    "collapsed": false,
    "scrolled": false,
    "slideshow": {
     "slide_type": "subslide"
    }
   },
   "outputs": [],
   "source": [
    "fritz_zwicky = Theorist()\n",
    "\n",
    "for _ in range(150):\n",
    "    fritz_zwicky.do_science()\n",
    "\n",
    "print(\"Zwicky's CV:\")\n",
    "print(fritz_zwicky.cv)"
   ]
  },
  {
   "cell_type": "markdown",
   "metadata": {
    "collapsed": true,
    "slideshow": {
     "slide_type": "slide"
    }
   },
   "source": [
    "# Other resources/examples\n",
    "\n",
    "* Some \"business\"-oriented example of object-oriented programming and interitance in Python:\n",
    "  * http://www.tutorialspoint.com/python/python_classes_objects.htm\n",
    "  * https://jeffknupp.com/blog/2014/06/18/improve-your-python-python-classes-and-object-oriented-programming/\n",
    "* If you're into role-playing games: http://inventwithpython.com/blog/2014/12/02/why-is-object-oriented-programming-useful-with-an-role-playing-game-example/\n",
    "* The class heirarchy of `astropy.coordinates`: http://docs.astropy.org/en/stable/coordinates/index.html#class-inheritance-diagram, and the documentation for how to make your own custom frames: http://docs.astropy.org/en/stable/coordinates/frames.html#defining-a-new-frame"
   ]
  },
  {
   "cell_type": "markdown",
   "metadata": {
    "collapsed": true,
    "slideshow": {
     "slide_type": "slide"
    }
   },
   "source": [
    "# Now some ideas to play around with:\n",
    "* Extend the Point/Circle heirarchy to include Ellipse, or maybe Square (requires some knowledge of matplotlib)\n",
    "* Extend the Astronomer heirarchy.  Maybe specific kinds of observers?\n",
    "* Make your own \"toy\" class heirarchy from scratch.  Make sure to actually instantitate some objects and test that they work\n",
    "* Chat with someone about or hack on a class heirarchy for some of your own data reduction/analysis code.\n",
    "* Try more complicated multiple inheritance heirarchies, and try to infer how ``super()`` works (you'll probably have some surprises!).\n",
    "* If you think you already understand classes and want to blow your mind: Experiment with metaclasses (E.g., https://docs.python.org/3/reference/datamodel.html#customizing-class-creation)"
   ]
  },
  {
   "cell_type": "code",
   "execution_count": null,
   "metadata": {
    "collapsed": true,
    "slideshow": {
     "slide_type": "skip"
    }
   },
   "outputs": [],
   "source": []
  },
  {
   "cell_type": "code",
   "execution_count": null,
   "metadata": {
    "collapsed": true,
    "slideshow": {
     "slide_type": "skip"
    }
   },
   "outputs": [],
   "source": []
  },
  {
   "cell_type": "code",
   "execution_count": null,
   "metadata": {
    "collapsed": true,
    "slideshow": {
     "slide_type": "skip"
    }
   },
   "outputs": [],
   "source": []
  },
  {
   "cell_type": "code",
   "execution_count": null,
   "metadata": {
    "collapsed": true,
    "slideshow": {
     "slide_type": "skip"
    }
   },
   "outputs": [],
   "source": []
  },
  {
   "cell_type": "code",
   "execution_count": null,
   "metadata": {
    "collapsed": true,
    "slideshow": {
     "slide_type": "skip"
    }
   },
   "outputs": [],
   "source": []
  },
  {
   "cell_type": "markdown",
   "metadata": {
    "slideshow": {
     "slide_type": "skip"
    }
   },
   "source": [
    "To actually show this as a presentation, the easiest thing is to do ``jupyter nbconvert --to slides <this file's name>.ipynb --post serve``"
   ]
  },
  {
   "cell_type": "raw",
   "metadata": {
    "slideshow": {
     "slide_type": "skip"
    }
   },
   "source": [
    "<!--<link rel=\"stylesheet\" href=\"reveal.js/css/theme/sky.css\" id=\"theme\">-->"
   ]
  }
 ],
 "metadata": {
  "celltoolbar": "Slideshow",
  "kernelspec": {
   "display_name": "Python 3",
   "language": "python",
   "name": "python3"
  },
  "language_info": {
   "codemirror_mode": {
    "name": "ipython",
    "version": 3
   },
   "file_extension": ".py",
   "mimetype": "text/x-python",
   "name": "python",
   "nbconvert_exporter": "python",
   "pygments_lexer": "ipython3",
   "version": "3.5.1"
  }
 },
 "nbformat": 4,
 "nbformat_minor": 0
}
